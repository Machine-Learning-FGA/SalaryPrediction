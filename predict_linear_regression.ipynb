{
 "cells": [
  {
   "cell_type": "markdown",
   "metadata": {},
   "source": [
    "Importando módulos necessários."
   ]
  },
  {
   "cell_type": "code",
   "execution_count": 2,
   "metadata": {},
   "outputs": [],
   "source": [
    "import pandas as pd\n",
    "import numpy as np\n",
    "import matplotlib.pyplot as plt\n",
    "from sklearn import linear_model\n",
    "from numpy import isnan\n",
    "from sklearn.model_selection import train_test_split\n",
    "from sklearn.metrics import mean_squared_error, r2_score, median_absolute_error\n",
    "from sklearn.metrics import explained_variance_score"
   ]
  },
  {
   "cell_type": "markdown",
   "metadata": {},
   "source": [
    "Carrega-se um dataframe a partir do .csv gerado anteriormente, com os dados de texto tratados corretamente."
   ]
  },
  {
   "cell_type": "code",
   "execution_count": 3,
   "metadata": {},
   "outputs": [],
   "source": [
    "df = pd.read_csv('Vectorized.csv')"
   ]
  },
  {
   "cell_type": "markdown",
   "metadata": {},
   "source": [
    "É aplicado o log nos valores da coluna da feature, Salary. Isso é realizado para reduzir o viés dos dados."
   ]
  },
  {
   "cell_type": "code",
   "execution_count": 4,
   "metadata": {},
   "outputs": [],
   "source": [
    "df['Salary'] = np.log(df['Salary'])"
   ]
  },
  {
   "cell_type": "markdown",
   "metadata": {},
   "source": [
    "Separa-se a feature das demais colunas e se divide o dataframe nos conjuntos de treino e teste. Foi feita uma divisão 80/20 para os tamanhos de treino e teste, valor alcançado através de alguns testes."
   ]
  },
  {
   "cell_type": "code",
   "execution_count": null,
   "metadata": {},
   "outputs": [],
   "source": [
    "X = df.drop('Salary', axis=1).values\n",
    "y = df['Salary'].values\n",
    "\n",
    "X_train, X_test, y_train, y_test = train_test_split(X, y, test_size=0.2, random_state=42)"
   ]
  },
  {
   "cell_type": "markdown",
   "metadata": {},
   "source": [
    "Se aplica um algoritmo de regressão linear sobre o conjunto de treino, e em seguida se realiza a predição sobre o conjunto de testes."
   ]
  },
  {
   "cell_type": "code",
   "execution_count": null,
   "metadata": {},
   "outputs": [],
   "source": [
    "reg = linear_model.LinearRegression()\n",
    "reg.fit(X_train, y_train)\n",
    "\n",
    "result = reg.predict(X_test)"
   ]
  },
  {
   "cell_type": "markdown",
   "metadata": {},
   "source": [
    "A partir do resultado, são coletadas algumas métricas, descritas a seguir."
   ]
  },
  {
   "cell_type": "code",
   "execution_count": null,
   "metadata": {},
   "outputs": [],
   "source": [
    "\n",
    "print(\"Median absolute error: %.2f\" % median_absolute_error(y_test, result))\n",
    "print(\"Mean squared error: %.2f\" % mean_squared_error(y_test, result))\n",
    "print('R² score: %.2f' % r2_score(y_test, result))\n",
    "print('Explained variance score:', explained_variance_score(y_test, result))"
   ]
  },
  {
   "cell_type": "markdown",
   "metadata": {},
   "source": [
    "## Descrição das Métricas\n",
    "\n",
    "### Median Absolute Error\n",
    "Valor calculado através da mediana do módulo entre as diferenças de todos os valores reais e as predições realizadas.\n",
    "\n",
    "### Mean Squared Error\n",
    "O mean_squared_error é uma métrica de risco obtida através do somatório do quadrado da diferença entre os valores reais e os valores estimados, sendo multiplicado com o fator de 1 dividido pelo número de casos. Se esse valor for muito grande, indica uma grande variação entre os valores estimados e os valores reais.\n",
    "\n",
    "\n",
    "### R² Score - Coefficient of Determination\n",
    "O coeficiente de determinação é um indicador da probabilidade de amostras futuras serem previstas com sucesso pelo modelo. O melhor valor possível é de 1.0, mas pode apresentar até valores negativos, dependendo da qualidade do modelo.\n",
    "\n",
    "\n",
    "### Explained Variance Score\n",
    "Outra métrica para indicar uma grande variação entre os resultados estimados e os verdadeiros. É obtida pela subtração de 1 pela variância dos valores reais menos os valores estimados sobre a variância dos valores reais. O melhor resultado possível é 1, o que indica que a variância dos valores reais e variância dos valores estimados são os mesmos. Essa suposição leva, portanto, à constatação de que os valores reais são iguais aos estimados."
   ]
  },
  {
   "cell_type": "code",
   "execution_count": null,
   "metadata": {},
   "outputs": [],
   "source": []
  }
 ],
 "metadata": {
  "kernelspec": {
   "display_name": "Python 3",
   "language": "python",
   "name": "python3"
  },
  "language_info": {
   "codemirror_mode": {
    "name": "ipython",
    "version": 3
   },
   "file_extension": ".py",
   "mimetype": "text/x-python",
   "name": "python",
   "nbconvert_exporter": "python",
   "pygments_lexer": "ipython3",
   "version": "3.6.5"
  }
 },
 "nbformat": 4,
 "nbformat_minor": 2
}
