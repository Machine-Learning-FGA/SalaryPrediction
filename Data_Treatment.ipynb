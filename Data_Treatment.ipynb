{
 "cells": [
  {
   "cell_type": "code",
   "execution_count": null,
   "metadata": {},
   "outputs": [],
   "source": [
    "def number_of_columns():\n",
    "    total = 0\n",
    "    for key in columns_to_vectorize:\n",
    "        total += columns_to_vectorize[key]\n",
    "    return total\n",
    "\n",
    "columns_to_vectorize = {\n",
    "    'Title': 500,\n",
    "    'FullDescription': 3000,\n",
    "    'LocationRaw': 100,\n",
    "    'LocationNormalized': 100,\n",
    "    'ContractType': 2,\n",
    "    'ContractTime': 2,\n",
    "    'Company': 500,\n",
    "    'Category': 20,\n",
    "    'SourceName': 100\n",
    "}"
   ]
  },
  {
   "cell_type": "markdown",
   "metadata": {},
   "source": [
    "No dicionário acima, descreve-se quais colunas do CSV de treino serão utilizados mais abaixo no código, bem como seu peso para o CSV de saída. O método de número de colunas apenas retorna a soma de todos os elemtos da direita do dicionário."
   ]
  },
  {
   "cell_type": "code",
   "execution_count": null,
   "metadata": {},
   "outputs": [],
   "source": [
    "NUMBER_OF_ROWS = 50000\n",
    "\n",
    "new_file = open(\"Vectorized.csv\",\"w\")\n",
    "writer = csv.writer(new_file, delimiter=',')\n",
    "\n",
    "with zipfile.ZipFile('Train_rev1.zip') as myzip:\n",
    "    with myzip.open('Train_rev1.csv') as myfile:\n",
    "        df = pd.read_csv(myfile, nrows=NUMBER_OF_ROWS)\n",
    "\n",
    "definite_row = []\n",
    "definite_row.append([str(x) for x in range(0, number_of_columns())])\n",
    "definite_row[0].append('Salary')"
   ]
  },
  {
   "cell_type": "markdown",
   "metadata": {},
   "source": [
    "A variável NUMBER_OF_ROWS diz o tamanho do CSV de saída, após os dados serem tratados.\n",
    "\n",
    "O próximo passo é abrir O CSV de origem, que está contido em um ZIP chamado Train_rev1.zip.\n",
    "\n",
    "Então, é criado o elemento definite_row, que é uma lista de listas, em que cada lista interna é uma abstração para uma linha do CSV de saída.\n",
    "\n",
    "As próximas operações sobre o definite_row servem para criar uma linha de cabeçalho pro CSV de saída em que a última coluna chama-se \"Salary\". As colunas anteriores são nomeadas por um número de 0 ao número de colunas.\n",
    "\n",
    "Note também que nesse passo é criado o CSV de saída, que chama-se \"Vectorized.csv\" no módo de escrita."
   ]
  },
  {
   "cell_type": "code",
   "execution_count": null,
   "metadata": {},
   "outputs": [],
   "source": [
    "for i in range(0, NUMBER_OF_ROWS):\n",
    "    definite_row.append([])\n",
    "\n",
    "writer.writerow(definite_row[0])\n"
   ]
  },
  {
   "cell_type": "markdown",
   "metadata": {},
   "source": [
    "O primeiro loop, que vai de 0 ao número de linhas, adiciona uma lista vazia a cada iteração.\n",
    "\n",
    "Se cada lista dentro de definite_row é uma linha do CSV, o que esse passo faz nada mais é do que inicializar uma linha que será preenchida depois.\n",
    "\n",
    "Ao mesmo tempo, a linha de cabeçalho já é escrita no CSV de saída."
   ]
  },
  {
   "cell_type": "code",
   "execution_count": null,
   "metadata": {},
   "outputs": [],
   "source": [
    "for key in columns_to_vectorize:\n",
    "    count_vectorizer = CountVectorizer(max_features=columns_to_vectorize[key], stop_words='english')\n",
    "    transformed = count_vectorizer.fit_transform(df[key].values.astype('U')).toarray()\n",
    "    for index, value in enumerate(transformed):\n",
    "        value = value.tolist()\n",
    "        definite_row[index+1].extend(value)\n",
    "\n",
    "for i in range(0, NUMBER_OF_ROWS):\n",
    "    definite_row[i+1].extend([str(df['SalaryNormalized'][i])])\n",
    "    writer.writerow(definite_row[i+1])\n",
    "\n",
    "new_file.close()"
   ]
  },
  {
   "cell_type": "markdown",
   "metadata": {},
   "source": [
    "Esse passo é a cereja do bolo.\n",
    "\n",
    "O CountVectorizer é uma classe que serve para tratar inputs que são textos. Ele pega um conjunto de strings e aprende delas o dicionário possível de palavras. A lista de strings passada são as colunas do CSV de entrada.\n",
    "\n",
    "O argumento max_features descreve o número máximo de palavras que será aprendida. No caso, esse número é descrito pelo dicionário supracitado. A coluna 'Title', por exemplo, pode ter um dicionário de 500 palavras diferentes.\n",
    "\n",
    "O argumento stop_words, que recebe o valor 'english', serve para retirar palavras desnecessárias nas strings. Entre essas palavras, entram preposições e outras coisas não descritivas.\n",
    "\n",
    "O método fit_transform, que recebe a coluna, efetivamente aprenderá dela as palavras enquanto retorna uma lista de listas, em que cada uma é a frequência do dicionário aprendido para cada linha da entrada.\n",
    "\n",
    "Após termos essa informação, convertemos ela em uma lista do Python e a adicionamos no nosso elemento de definite_row. O extend faz apenas com que as listas sejam adicionadas como elementos de mesmo nível, ou seja, não criar outra lista de listas.\n",
    "\n",
    "O próximo loop serve para pegar cada linha de informação adquirida no loop anterior e escrevê-la no CSV de saída."
   ]
  }
 ],
 "metadata": {
  "kernelspec": {
   "display_name": "Python 3",
   "language": "python",
   "name": "python3"
  },
  "language_info": {
   "codemirror_mode": {
    "name": "ipython",
    "version": 3
   },
   "file_extension": ".py",
   "mimetype": "text/x-python",
   "name": "python",
   "nbconvert_exporter": "python",
   "pygments_lexer": "ipython3",
   "version": "3.6.5"
  }
 },
 "nbformat": 4,
 "nbformat_minor": 2
}
