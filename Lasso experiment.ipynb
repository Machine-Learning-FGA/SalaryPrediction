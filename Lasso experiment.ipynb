{
 "cells": [
  {
   "cell_type": "markdown",
   "metadata": {},
   "source": [
    "**Importando módulos necessários**"
   ]
  },
  {
   "cell_type": "code",
   "execution_count": 1,
   "metadata": {},
   "outputs": [],
   "source": [
    "import numpy as np\n",
    "import pandas as pd\n",
    "from sklearn import preprocessing, tree, linear_model\n",
    "from sklearn.model_selection import cross_val_score, train_test_split\n",
    "from sklearn.metrics import mean_squared_error, r2_score, median_absolute_error, explained_variance_score\n",
    "import seaborn as sns\n",
    "import matplotlib.pyplot as plt"
   ]
  },
  {
   "cell_type": "markdown",
   "metadata": {},
   "source": [
    "**Carrega-se um dataframe a partir do .csv gerado anteriormente, com os dados de texto tratados corretamente.**"
   ]
  },
  {
   "cell_type": "code",
   "execution_count": 2,
   "metadata": {},
   "outputs": [],
   "source": [
    "df = pd.read_csv(\"Vectorized.csv\", header=None)"
   ]
  },
  {
   "cell_type": "markdown",
   "metadata": {},
   "source": [
    "**Separando o target das features**"
   ]
  },
  {
   "cell_type": "code",
   "execution_count": 3,
   "metadata": {},
   "outputs": [],
   "source": [
    "targets = df.iloc[:,-1:]\n",
    "features = df.iloc[:,0:-1]"
   ]
  },
  {
   "cell_type": "markdown",
   "metadata": {},
   "source": [
    "**Separando teste de treino**"
   ]
  },
  {
   "cell_type": "code",
   "execution_count": 4,
   "metadata": {},
   "outputs": [],
   "source": [
    "X_train, X_test, y_train, y_test = train_test_split(features, targets, test_size=0.4, random_state=42) "
   ]
  },
  {
   "cell_type": "markdown",
   "metadata": {},
   "source": [
    "**Criando classificadores**"
   ]
  },
  {
   "cell_type": "code",
   "execution_count": 5,
   "metadata": {},
   "outputs": [],
   "source": [
    "decis_tree_regr_1 = tree.DecisionTreeRegressor(max_depth=5)\n",
    "decis_tree_regr_2 = tree.DecisionTreeRegressor(max_depth=10)\n",
    "lasso_regr_1 = linear_model.Lasso(0.1)\n",
    "lasso_regr_2 = linear_model.Lasso(1)"
   ]
  },
  {
   "cell_type": "markdown",
   "metadata": {},
   "source": [
    "**Treinando Modelos**"
   ]
  },
  {
   "cell_type": "code",
   "execution_count": null,
   "metadata": {},
   "outputs": [],
   "source": [
    "decis_tree_regr_1.fit(X_train, y_train)\n",
    "decis_tree_regr_2.fit(X_train, y_train)\n",
    "lasso_regr_1.fit(X_train, y_train)\n",
    "lasso_regr_2.fit(X_train, y_train)"
   ]
  },
  {
   "cell_type": "markdown",
   "metadata": {},
   "source": [
    "**Aplicaondo modelo no Teste**"
   ]
  },
  {
   "cell_type": "code",
   "execution_count": 22,
   "metadata": {},
   "outputs": [],
   "source": [
    "y_decis_tree_1 = decis_tree_regr_1.predict(X_test)\n",
    "y_decis_tree_2 = decis_tree_regr_2.predict(X_test)\n",
    "y_lasso_regr_1 = lasso_regr_1.predict(X_test)\n",
    "y_lasso_regr_2 = lasso_regr_2.predict(X_test)"
   ]
  },
  {
   "cell_type": "markdown",
   "metadata": {},
   "source": [
    "**Resultados do DecisionTreeRegressor com profundidade 5**"
   ]
  },
  {
   "cell_type": "code",
   "execution_count": 29,
   "metadata": {},
   "outputs": [
    {
     "name": "stdout",
     "output_type": "stream",
     "text": [
      "Median absolute error: 8936.13\n",
      "Mean squared error: 243629731.06\n",
      "R² score: 0.20\n",
      "Explained variance score: 0.20288124982904043\n"
     ]
    }
   ],
   "source": [
    "print(\"Median absolute error: %.2f\" % median_absolute_error(y_test, y_decis_tree_1))\n",
    "print(\"Mean squared error: %.2f\" % mean_squared_error(y_test, y_decis_tree_1))\n",
    "print('R² score: %.2f' % r2_score(y_test, y_decis_tree_1))\n",
    "print('Explained variance score:', explained_variance_score(y_test, y_decis_tree_1))"
   ]
  },
  {
   "cell_type": "markdown",
   "metadata": {},
   "source": [
    "**Resultados do DecisionTreeRegressor com profundidade 10**"
   ]
  },
  {
   "cell_type": "code",
   "execution_count": 31,
   "metadata": {},
   "outputs": [
    {
     "name": "stdout",
     "output_type": "stream",
     "text": [
      "Median absolute error: 7698.90\n",
      "Mean squared error: 227881512.79\n",
      "R² score: 0.25\n",
      "Explained variance score: 0.25440958157618354\n"
     ]
    }
   ],
   "source": [
    "print(\"Median absolute error: %.2f\" % median_absolute_error(y_test, y_decis_tree_2))\n",
    "print(\"Mean squared error: %.2f\" % mean_squared_error(y_test, y_decis_tree_2))\n",
    "print('R² score: %.2f' % r2_score(y_test, y_decis_tree_2))\n",
    "print('Explained variance score:', explained_variance_score(y_test, y_decis_tree_2))"
   ]
  },
  {
   "cell_type": "markdown",
   "metadata": {},
   "source": [
    "**Resultados do Lasso com alpha 0.1**"
   ]
  },
  {
   "cell_type": "code",
   "execution_count": 35,
   "metadata": {},
   "outputs": [
    {
     "name": "stdout",
     "output_type": "stream",
     "text": [
      "Median absolute error: 7308.92\n",
      "Mean squared error: 191991001.82\n",
      "R² score: 0.37\n",
      "Explained variance score: 0.37183225145953824\n"
     ]
    }
   ],
   "source": [
    "print(\"Median absolute error: %.2f\" % median_absolute_error(y_test, y_lasso_regr_1))\n",
    "print(\"Mean squared error: %.2f\" % mean_squared_error(y_test, y_lasso_regr_1))\n",
    "print('R² score: %.2f' % r2_score(y_test, y_lasso_regr_1))\n",
    "print('Explained variance score:', explained_variance_score(y_test, y_lasso_regr_1))"
   ]
  },
  {
   "cell_type": "markdown",
   "metadata": {},
   "source": [
    "**Resultados do Lasso com alpha 1**"
   ]
  },
  {
   "cell_type": "code",
   "execution_count": 36,
   "metadata": {},
   "outputs": [
    {
     "name": "stdout",
     "output_type": "stream",
     "text": [
      "Median absolute error: 7308.99\n",
      "Mean squared error: 191993698.01\n",
      "R² score: 0.37\n",
      "Explained variance score: 0.37182355665342737\n"
     ]
    }
   ],
   "source": [
    "print(\"Median absolute error: %.2f\" % median_absolute_error(y_test, y_lasso_regr_2))\n",
    "print(\"Mean squared error: %.2f\" % mean_squared_error(y_test, y_lasso_regr_2))\n",
    "print('R² score: %.2f' % r2_score(y_test, y_lasso_regr_2))\n",
    "print('Explained variance score:', explained_variance_score(y_test, y_lasso_regr_2))"
   ]
  }
 ],
 "metadata": {
  "kernelspec": {
   "display_name": "Python 3",
   "language": "python",
   "name": "python3"
  },
  "language_info": {
   "codemirror_mode": {
    "name": "ipython",
    "version": 3
   },
   "file_extension": ".py",
   "mimetype": "text/x-python",
   "name": "python",
   "nbconvert_exporter": "python",
   "pygments_lexer": "ipython3",
   "version": "3.6.5"
  }
 },
 "nbformat": 4,
 "nbformat_minor": 2
}
